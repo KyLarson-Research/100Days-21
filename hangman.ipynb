{
 "cells": [
  {
   "cell_type": "code",
   "execution_count": 1,
   "metadata": {},
   "outputs": [
    {
     "data": {
      "text/plain": [
       "['ant',\n",
       " 'baboon',\n",
       " 'badger',\n",
       " 'bat',\n",
       " 'bear',\n",
       " 'beaver',\n",
       " 'camel',\n",
       " 'cat',\n",
       " 'clam',\n",
       " 'cobra',\n",
       " 'cougar',\n",
       " 'coyote',\n",
       " 'crow',\n",
       " 'deer',\n",
       " 'dog',\n",
       " 'donkey',\n",
       " 'duck',\n",
       " 'eagle',\n",
       " 'ferret',\n",
       " 'fox',\n",
       " 'frog',\n",
       " 'goat',\n",
       " 'goose',\n",
       " 'hawk',\n",
       " 'lion',\n",
       " 'lizard',\n",
       " 'llama',\n",
       " 'mole',\n",
       " 'monkey',\n",
       " 'moose',\n",
       " 'mouse',\n",
       " 'mule',\n",
       " 'newt',\n",
       " 'otter',\n",
       " 'owl',\n",
       " 'panda',\n",
       " 'parrot',\n",
       " 'pigeon',\n",
       " 'python',\n",
       " 'rabbit',\n",
       " 'ram',\n",
       " 'rat',\n",
       " 'raven',\n",
       " 'rhino',\n",
       " 'salmon',\n",
       " 'seal',\n",
       " 'shark',\n",
       " 'sheep',\n",
       " 'skunk',\n",
       " 'sloth',\n",
       " 'snake',\n",
       " 'spider',\n",
       " 'stork',\n",
       " 'swan',\n",
       " 'tiger',\n",
       " 'toad',\n",
       " 'trout',\n",
       " 'turkey',\n",
       " 'turtle',\n",
       " 'weasel',\n",
       " 'whale',\n",
       " 'wolf',\n",
       " 'wombat',\n",
       " 'zebra']"
      ]
     },
     "execution_count": 1,
     "metadata": {},
     "output_type": "execute_result"
    }
   ],
   "source": [
    "#Filename: hangman.ipynb\n",
    "#Authored by Kyle Larson 10-5-21\n",
    "HANGMANPICS = ['''\n",
    "  +---+\n",
    "  |   |\n",
    "      |\n",
    "      |\n",
    "      |\n",
    "      |\n",
    "=========''', '''\n",
    "  +---+\n",
    "  |   |\n",
    "  O   |\n",
    "      |\n",
    "      |\n",
    "      |\n",
    "=========''', '''\n",
    "  +---+\n",
    "  |   |\n",
    "  O   |\n",
    "  |   |\n",
    "      |\n",
    "      |\n",
    "=========''', '''\n",
    "  +---+\n",
    "  |   |\n",
    "  O   |\n",
    " /|   |\n",
    "      |\n",
    "      |\n",
    "=========''', '''\n",
    "  +---+\n",
    "  |   |\n",
    "  O   |\n",
    " /|\\  |\n",
    "      |\n",
    "      |\n",
    "=========''', '''\n",
    "  +---+\n",
    "  |   |\n",
    "  O   |\n",
    " /|\\  |\n",
    " /    |\n",
    "      |\n",
    "=========''', '''\n",
    "  +---+\n",
    "  |   |\n",
    "  O   |\n",
    " /|\\  |\n",
    " / \\  |\n",
    "      |\n",
    "=========''']\n",
    "\n",
    "#Word bank of animals\n",
    "words = ('ant baboon badger bat bear beaver camel cat clam cobra cougar '\n",
    "         'coyote crow deer dog donkey duck eagle ferret fox frog goat '\n",
    "         'goose hawk lion lizard llama mole monkey moose mouse mule newt '\n",
    "         'otter owl panda parrot pigeon python rabbit ram rat raven '\n",
    "         'rhino salmon seal shark sheep skunk sloth snake spider '\n",
    "         'stork swan tiger toad trout turkey turtle weasel whale wolf '\n",
    "         'wombat zebra ').split()\n",
    "\n",
    "#The Above Courtesy of https://gist.github.com/chrishorton/8510732aa9a80a03c829b09f12e20d9c\n",
    "\n",
    "words"
   ]
  },
  {
   "cell_type": "code",
   "execution_count": 2,
   "metadata": {},
   "outputs": [
    {
     "name": "stdout",
     "output_type": "stream",
     "text": [
      "deer\n",
      "clam\n",
      "cat\n",
      "baboon\n",
      "toad\n",
      "beaver\n",
      "goat\n",
      "mouse\n",
      "raven\n",
      "coyote\n"
     ]
    }
   ],
   "source": [
    "import random\n",
    "\n",
    "for i in range(10):\n",
    "    hangman_word = random.choice(words)\n",
    "    print( hangman_word)"
   ]
  },
  {
   "cell_type": "code",
   "execution_count": 3,
   "metadata": {},
   "outputs": [
    {
     "data": {
      "text/plain": [
       "['_', '_', '_']"
      ]
     },
     "execution_count": 3,
     "metadata": {},
     "output_type": "execute_result"
    }
   ],
   "source": [
    "HANGI=0"
   ]
  },
  {
   "cell_type": "code",
   "execution_count": 15,
   "metadata": {},
   "outputs": [
    {
     "name": "stdout",
     "output_type": "stream",
     "text": [
      "Enter guess g\n",
      "\n",
      "  +---+\n",
      "  |   |\n",
      "  O   |\n",
      "  |   |\n",
      "      |\n",
      "      |\n",
      "=========\n"
     ]
    }
   ],
   "source": [
    "\n",
    "hangman_wordish = 'test'\n",
    "output=[]\n",
    "letter_index = 0\n",
    "guess = input(\"Enter guess \")\n",
    "for letter in hangman_wordish:\n",
    "    if letter==guess:\n",
    "        output.append(\" \"+guess+ \" \")\n",
    "        letter_index = letter_index +1\n",
    "    else: \n",
    "        output.append(' _ ')\n",
    "if letter_index>0:\n",
    "    out =\"\"\n",
    "    out = out.join(output)\n",
    "    print(out)\n",
    "else:\n",
    "    HANGI=HANGI+1\n",
    "    print(HANGMANPICS[HANGI])"
   ]
  },
  {
   "cell_type": "code",
   "execution_count": null,
   "metadata": {},
   "outputs": [],
   "source": []
  },
  {
   "cell_type": "code",
   "execution_count": null,
   "metadata": {},
   "outputs": [],
   "source": []
  }
 ],
 "metadata": {
  "kernelspec": {
   "display_name": "Python 3",
   "language": "python",
   "name": "python3"
  },
  "language_info": {
   "codemirror_mode": {
    "name": "ipython",
    "version": 3
   },
   "file_extension": ".py",
   "mimetype": "text/x-python",
   "name": "python",
   "nbconvert_exporter": "python",
   "pygments_lexer": "ipython3",
   "version": "3.7.6"
  }
 },
 "nbformat": 4,
 "nbformat_minor": 4
}
